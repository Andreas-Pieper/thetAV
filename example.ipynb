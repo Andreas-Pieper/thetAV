{
 "cells": [
  {
   "cell_type": "code",
   "execution_count": 4,
   "metadata": {},
   "outputs": [],
   "source": [
    "from avisogenies_sage import *"
   ]
  },
  {
   "cell_type": "code",
   "execution_count": 7,
   "metadata": {},
   "outputs": [
    {
     "data": {
      "text/plain": [
       "Abelian variety of dimension 2 with theta null point (26 : 191 : 70 : 130 : 256 : 29 : 255 : 309 : 272 : 52 : 15 : 123 : 99 : 1 : 94 : 239)"
      ]
     },
     "execution_count": 7,
     "metadata": {},
     "output_type": "execute_result"
    }
   ],
   "source": [
    "FF = GF(331)\n",
    "FF2 = GF(331,2)\n",
    "pt = [26, 191, 70, 130, 256, 29, 255, 309, 272, 52, 15, 123, 99, 1, 94, 239];\n",
    "A = AbelianVariety(FF, 4, 2, [FF(t) for t in pt])\n",
    "A"
   ]
  },
  {
   "cell_type": "code",
   "execution_count": 8,
   "metadata": {},
   "outputs": [
    {
     "data": {
      "text/plain": [
       "((26 : 191 : 70 : 130 : 256 : 29 : 255 : 309 : 272 : 52 : 15 : 123 : 99 : 1 : 94 : 239),\n",
       " (185 : 88 : 113 : 263 : 202 : 118 : 236 : 261 : 10 : 158 : 29 : 208 : 320 : 125 : 113 : 215),\n",
       " (40 : 325 : 174 : 26 : 329 : 58 : 243 : 166 : 75 : 53 : 14 : 81 : 24 : 7 : 278 : 233))"
      ]
     },
     "execution_count": 8,
     "metadata": {},
     "output_type": "execute_result"
    }
   ],
   "source": [
    "P0 = A(0)\n",
    "Q = A([185, 88, 113, 263, 202, 118, 236, 261, 10, 158, 29, 208, 320, 125, 113, 215])\n",
    "QQ = Q.diff_add(Q, P0)\n",
    "P0, Q, QQ"
   ]
  },
  {
   "cell_type": "code",
   "execution_count": null,
   "metadata": {},
   "outputs": [],
   "source": []
  }
 ],
 "metadata": {
  "kernelspec": {
   "display_name": "SageMath 9.1.rc2",
   "language": "sage",
   "name": "sagemath"
  },
  "language_info": {
   "codemirror_mode": {
    "name": "ipython",
    "version": 3
   },
   "file_extension": ".py",
   "mimetype": "text/x-python",
   "name": "python",
   "nbconvert_exporter": "python",
   "pygments_lexer": "ipython3",
   "version": "3.7.3"
  }
 },
 "nbformat": 4,
 "nbformat_minor": 2
}
