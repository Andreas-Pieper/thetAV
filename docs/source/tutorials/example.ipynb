{
 "cells": [
  {
   "cell_type": "markdown",
   "metadata": {},
   "source": [
    "## A tutorial on how to use AVIsogenies in SageMath\n",
    "\n",
    "With this notebook we introduce the main functionalities of the AVIsogenies package.\n",
    "\n",
    "### Table of contents\n",
    "\n",
    "1. [Introduction](#intro)\n",
    "2. [Basic arithmetic](#arithmetic)\n",
    "3. [Morphisms](#morphisms)\n",
    "    * [In level 4](#m-lvl4)\n",
    "    * [In level 2](#m-lvl2)\n",
    "    * [Change of coordinates](#m-change)\n",
    "\n",
    "\n",
    "\n",
    "### Introduction <a name=\"intro\"></a>\n",
    "\n",
    "To import the functionalities of this package, start with the following line:"
   ]
  },
  {
   "cell_type": "code",
   "execution_count": 1,
   "metadata": {},
   "outputs": [],
   "source": [
    "from avisogenies_sage import *"
   ]
  },
  {
   "cell_type": "markdown",
   "metadata": {},
   "source": [
    "The following cell shows how to create an Abelian Variety with theta structure, by giving its Theta Null point."
   ]
  },
  {
   "cell_type": "code",
   "execution_count": 2,
   "metadata": {},
   "outputs": [],
   "source": [
    "FF = GF(331); n = 2; g = 2\n",
    "\n",
    "pt = [328 , 213 , 75 , 1]\n",
    "A = KummerVariety(FF, g, pt)"
   ]
  },
  {
   "cell_type": "markdown",
   "metadata": {},
   "source": [
    "It is possible to check that the given point is a valid Theta Null point. It checks that the given data satisfies the Riemann Relations. This is not tested unless it is specified."
   ]
  },
  {
   "cell_type": "code",
   "execution_count": 3,
   "metadata": {},
   "outputs": [
    {
     "data": {
      "text/plain": [
       "Abelian variety of dimension 1 with theta null point (26 : 191 : 70 : 130) defined over Finite Field of size 331"
      ]
     },
     "execution_count": 3,
     "metadata": {},
     "output_type": "execute_result"
    }
   ],
   "source": [
    "B = AbelianVariety(GF(331), 4, 1, [26, 191, 70, 130]); B"
   ]
  },
  {
   "cell_type": "code",
   "execution_count": 4,
   "metadata": {
    "scrolled": true,
    "tags": [
     "raises-exception"
    ]
   },
   "outputs": [
    {
     "ename": "ValueError",
     "evalue": "The given list does not define a valid thetanullpoint",
     "output_type": "error",
     "traceback": [
      "\u001b[1;31m---------------------------------------------------------------------------\u001b[0m",
      "\u001b[1;31mValueError\u001b[0m                                Traceback (most recent call last)",
      "\u001b[1;32m<ipython-input-4-a837ec128fba>\u001b[0m in \u001b[0;36m<module>\u001b[1;34m\u001b[0m\n\u001b[1;32m----> 1\u001b[1;33m \u001b[0mB\u001b[0m \u001b[1;33m=\u001b[0m \u001b[0mAbelianVariety\u001b[0m\u001b[1;33m(\u001b[0m\u001b[0mGF\u001b[0m\u001b[1;33m(\u001b[0m\u001b[0mInteger\u001b[0m\u001b[1;33m(\u001b[0m\u001b[1;36m331\u001b[0m\u001b[1;33m)\u001b[0m\u001b[1;33m)\u001b[0m\u001b[1;33m,\u001b[0m \u001b[0mInteger\u001b[0m\u001b[1;33m(\u001b[0m\u001b[1;36m4\u001b[0m\u001b[1;33m)\u001b[0m\u001b[1;33m,\u001b[0m \u001b[0mInteger\u001b[0m\u001b[1;33m(\u001b[0m\u001b[1;36m1\u001b[0m\u001b[1;33m)\u001b[0m\u001b[1;33m,\u001b[0m \u001b[1;33m[\u001b[0m\u001b[0mInteger\u001b[0m\u001b[1;33m(\u001b[0m\u001b[1;36m26\u001b[0m\u001b[1;33m)\u001b[0m\u001b[1;33m,\u001b[0m \u001b[0mInteger\u001b[0m\u001b[1;33m(\u001b[0m\u001b[1;36m191\u001b[0m\u001b[1;33m)\u001b[0m\u001b[1;33m,\u001b[0m \u001b[0mInteger\u001b[0m\u001b[1;33m(\u001b[0m\u001b[1;36m70\u001b[0m\u001b[1;33m)\u001b[0m\u001b[1;33m,\u001b[0m \u001b[0mInteger\u001b[0m\u001b[1;33m(\u001b[0m\u001b[1;36m130\u001b[0m\u001b[1;33m)\u001b[0m\u001b[1;33m]\u001b[0m\u001b[1;33m,\u001b[0m \u001b[0mcheck\u001b[0m\u001b[1;33m=\u001b[0m\u001b[1;32mTrue\u001b[0m\u001b[1;33m)\u001b[0m\u001b[1;33m\u001b[0m\u001b[1;33m\u001b[0m\u001b[0m\n\u001b[0m",
      "\u001b[1;32m~/sage-9.4/local/lib/python3.8/site-packages/avisogenies_sage/constructor.py\u001b[0m in \u001b[0;36mAbelianVariety\u001b[1;34m(*data, **kwargs)\u001b[0m\n\u001b[0;32m     70\u001b[0m     \"\"\"\n\u001b[0;32m     71\u001b[0m     \u001b[1;32mif\u001b[0m \u001b[0mlen\u001b[0m\u001b[1;33m(\u001b[0m\u001b[0mdata\u001b[0m\u001b[1;33m)\u001b[0m \u001b[1;33m>\u001b[0m \u001b[1;36m1\u001b[0m\u001b[1;33m:\u001b[0m\u001b[1;33m\u001b[0m\u001b[1;33m\u001b[0m\u001b[0m\n\u001b[1;32m---> 72\u001b[1;33m         \u001b[1;32mreturn\u001b[0m \u001b[0mAbelianVariety_ThetaStructure\u001b[0m\u001b[1;33m(\u001b[0m\u001b[1;33m*\u001b[0m\u001b[0mdata\u001b[0m\u001b[1;33m,\u001b[0m \u001b[1;33m**\u001b[0m\u001b[0mkwargs\u001b[0m\u001b[1;33m)\u001b[0m\u001b[1;33m\u001b[0m\u001b[1;33m\u001b[0m\u001b[0m\n\u001b[0m\u001b[0;32m     73\u001b[0m \u001b[1;33m\u001b[0m\u001b[0m\n\u001b[0;32m     74\u001b[0m     \u001b[1;32mreturn\u001b[0m \u001b[0mModularAbelianVariety\u001b[0m\u001b[1;33m(\u001b[0m\u001b[0mdata\u001b[0m\u001b[1;33m[\u001b[0m\u001b[1;36m0\u001b[0m\u001b[1;33m]\u001b[0m\u001b[1;33m)\u001b[0m\u001b[1;33m\u001b[0m\u001b[1;33m\u001b[0m\u001b[0m\n",
      "\u001b[1;32m~/sage-9.4/local/lib/python3.8/site-packages/avisogenies_sage/theta_null_point.py\u001b[0m in \u001b[0;36m__init__\u001b[1;34m(self, R, n, g, T, check)\u001b[0m\n\u001b[0;32m    399\u001b[0m \u001b[1;33m\u001b[0m\u001b[0m\n\u001b[0;32m    400\u001b[0m             \u001b[1;32mif\u001b[0m \u001b[0many\u001b[0m\u001b[1;33m(\u001b[0m\u001b[0mT\u001b[0m\u001b[1;33m[\u001b[0m\u001b[0midx\u001b[0m\u001b[1;33m(\u001b[0m\u001b[1;33m-\u001b[0m\u001b[0mi\u001b[0m\u001b[1;33m)\u001b[0m\u001b[1;33m]\u001b[0m \u001b[1;33m!=\u001b[0m \u001b[0mval\u001b[0m \u001b[1;32mfor\u001b[0m \u001b[0mi\u001b[0m\u001b[1;33m,\u001b[0m \u001b[0mval\u001b[0m \u001b[1;32min\u001b[0m \u001b[0mzip\u001b[0m\u001b[1;33m(\u001b[0m\u001b[0mD\u001b[0m\u001b[1;33m,\u001b[0m \u001b[0mT\u001b[0m\u001b[1;33m)\u001b[0m\u001b[1;33m)\u001b[0m\u001b[1;33m:\u001b[0m\u001b[1;33m\u001b[0m\u001b[1;33m\u001b[0m\u001b[0m\n\u001b[1;32m--> 401\u001b[1;33m                 \u001b[1;32mraise\u001b[0m \u001b[0mValueError\u001b[0m\u001b[1;33m(\u001b[0m\u001b[1;34m'The given list does not define a valid thetanullpoint'\u001b[0m\u001b[1;33m)\u001b[0m\u001b[1;33m\u001b[0m\u001b[1;33m\u001b[0m\u001b[0m\n\u001b[0m\u001b[0;32m    402\u001b[0m \u001b[1;33m\u001b[0m\u001b[0m\n\u001b[0;32m    403\u001b[0m             \u001b[1;32mfor\u001b[0m \u001b[1;33m(\u001b[0m\u001b[0midxi\u001b[0m\u001b[1;33m,\u001b[0m \u001b[0mi\u001b[0m\u001b[1;33m)\u001b[0m\u001b[1;33m,\u001b[0m \u001b[1;33m(\u001b[0m\u001b[0midxj\u001b[0m\u001b[1;33m,\u001b[0m \u001b[0mj\u001b[0m\u001b[1;33m)\u001b[0m \u001b[1;32min\u001b[0m \u001b[0mproduct\u001b[0m\u001b[1;33m(\u001b[0m\u001b[0menumerate\u001b[0m\u001b[1;33m(\u001b[0m\u001b[0mD\u001b[0m\u001b[1;33m)\u001b[0m\u001b[1;33m,\u001b[0m \u001b[0mrepeat\u001b[0m\u001b[1;33m=\u001b[0m\u001b[1;36m2\u001b[0m\u001b[1;33m)\u001b[0m\u001b[1;33m:\u001b[0m\u001b[1;33m\u001b[0m\u001b[1;33m\u001b[0m\u001b[0m\n",
      "\u001b[1;31mValueError\u001b[0m: The given list does not define a valid thetanullpoint"
     ]
    }
   ],
   "source": [
    "B = AbelianVariety(GF(331), 4, 1, [26, 191, 70, 130], check=True)"
   ]
  },
  {
   "cell_type": "markdown",
   "metadata": {},
   "source": [
    "The following cell shows how to define a point in the constructed abelian variety."
   ]
  },
  {
   "cell_type": "code",
   "execution_count": 5,
   "metadata": {},
   "outputs": [],
   "source": [
    "P0 = A(0)\n",
    "P = A([255 , 89 , 30 , 1])"
   ]
  },
  {
   "cell_type": "markdown",
   "metadata": {},
   "source": [
    "As with the theta null point, it is possible to check that the given data defines a valid point, but it is not tested unless it is specified. For that we need to use the AbelianVariety method `point`."
   ]
  },
  {
   "cell_type": "code",
   "execution_count": 6,
   "metadata": {},
   "outputs": [],
   "source": [
    "Q = B([1 , 1 , 1 , 1])"
   ]
  },
  {
   "cell_type": "code",
   "execution_count": 7,
   "metadata": {
    "tags": [
     "raises-exception"
    ]
   },
   "outputs": [
    {
     "ename": "ValueError",
     "evalue": "The given list does not define a valid thetapoint",
     "output_type": "error",
     "traceback": [
      "\u001b[1;31m---------------------------------------------------------------------------\u001b[0m",
      "\u001b[1;31mValueError\u001b[0m                                Traceback (most recent call last)",
      "\u001b[1;32m<ipython-input-7-9181ec27578d>\u001b[0m in \u001b[0;36m<module>\u001b[1;34m\u001b[0m\n\u001b[1;32m----> 1\u001b[1;33m \u001b[0mQ\u001b[0m \u001b[1;33m=\u001b[0m \u001b[0mB\u001b[0m\u001b[1;33m.\u001b[0m\u001b[0mpoint\u001b[0m\u001b[1;33m(\u001b[0m\u001b[1;33m[\u001b[0m\u001b[0mInteger\u001b[0m\u001b[1;33m(\u001b[0m\u001b[1;36m1\u001b[0m\u001b[1;33m)\u001b[0m \u001b[1;33m,\u001b[0m \u001b[0mInteger\u001b[0m\u001b[1;33m(\u001b[0m\u001b[1;36m1\u001b[0m\u001b[1;33m)\u001b[0m \u001b[1;33m,\u001b[0m \u001b[0mInteger\u001b[0m\u001b[1;33m(\u001b[0m\u001b[1;36m1\u001b[0m\u001b[1;33m)\u001b[0m \u001b[1;33m,\u001b[0m \u001b[0mInteger\u001b[0m\u001b[1;33m(\u001b[0m\u001b[1;36m1\u001b[0m\u001b[1;33m)\u001b[0m\u001b[1;33m]\u001b[0m\u001b[1;33m,\u001b[0m \u001b[0mcheck\u001b[0m\u001b[1;33m=\u001b[0m\u001b[1;32mTrue\u001b[0m\u001b[1;33m)\u001b[0m\u001b[1;33m\u001b[0m\u001b[1;33m\u001b[0m\u001b[0m\n\u001b[0m",
      "\u001b[1;32m~/sage-9.4/local/lib/python3.8/site-packages/avisogenies_sage/theta_null_point.py\u001b[0m in \u001b[0;36mpoint\u001b[1;34m(*args, **kwds)\u001b[0m\n\u001b[0;32m    161\u001b[0m         \"\"\"\n\u001b[0;32m    162\u001b[0m         \u001b[0mself\u001b[0m \u001b[1;33m=\u001b[0m \u001b[0margs\u001b[0m\u001b[1;33m[\u001b[0m\u001b[1;36m0\u001b[0m\u001b[1;33m]\u001b[0m\u001b[1;33m\u001b[0m\u001b[1;33m\u001b[0m\u001b[0m\n\u001b[1;32m--> 163\u001b[1;33m         \u001b[1;32mreturn\u001b[0m \u001b[0mself\u001b[0m\u001b[1;33m.\u001b[0m\u001b[0m_point\u001b[0m\u001b[1;33m(\u001b[0m\u001b[1;33m*\u001b[0m\u001b[0margs\u001b[0m\u001b[1;33m,\u001b[0m \u001b[1;33m**\u001b[0m\u001b[0mkwds\u001b[0m\u001b[1;33m)\u001b[0m\u001b[1;33m\u001b[0m\u001b[1;33m\u001b[0m\u001b[0m\n\u001b[0m\u001b[0;32m    164\u001b[0m \u001b[1;33m\u001b[0m\u001b[0m\n\u001b[0;32m    165\u001b[0m     \u001b[0m__call__\u001b[0m \u001b[1;33m=\u001b[0m \u001b[0mpoint\u001b[0m\u001b[1;33m\u001b[0m\u001b[1;33m\u001b[0m\u001b[0m\n",
      "\u001b[1;32m~/sage-9.4/local/lib/python3.8/site-packages/avisogenies_sage/theta_point.py\u001b[0m in \u001b[0;36m__init__\u001b[1;34m(self, X, v, check)\u001b[0m\n\u001b[0;32m    778\u001b[0m                         \u001b[0mel4\u001b[0m \u001b[1;33m=\u001b[0m \u001b[1;33m(\u001b[0m\u001b[0midxchi\u001b[0m\u001b[1;33m,\u001b[0m \u001b[0midx\u001b[0m\u001b[1;33m(\u001b[0m\u001b[0mm\u001b[0m\u001b[1;33m-\u001b[0m\u001b[0mk\u001b[0m\u001b[1;33m)\u001b[0m\u001b[1;33m,\u001b[0m \u001b[0midx\u001b[0m\u001b[1;33m(\u001b[0m\u001b[0mm\u001b[0m\u001b[1;33m-\u001b[0m\u001b[0ml\u001b[0m\u001b[1;33m)\u001b[0m\u001b[1;33m)\u001b[0m\u001b[1;33m\u001b[0m\u001b[1;33m\u001b[0m\u001b[0m\n\u001b[0;32m    779\u001b[0m                         \u001b[1;32mif\u001b[0m \u001b[0mdual\u001b[0m\u001b[1;33m[\u001b[0m\u001b[0mel1\u001b[0m\u001b[1;33m]\u001b[0m\u001b[1;33m*\u001b[0m\u001b[0mdualself\u001b[0m\u001b[1;33m[\u001b[0m\u001b[0mel2\u001b[0m\u001b[1;33m]\u001b[0m \u001b[1;33m!=\u001b[0m \u001b[0mdual\u001b[0m\u001b[1;33m[\u001b[0m\u001b[0mel3\u001b[0m\u001b[1;33m]\u001b[0m\u001b[1;33m*\u001b[0m\u001b[0mdualself\u001b[0m\u001b[1;33m[\u001b[0m\u001b[0mel4\u001b[0m\u001b[1;33m]\u001b[0m\u001b[1;33m:\u001b[0m\u001b[1;33m\u001b[0m\u001b[1;33m\u001b[0m\u001b[0m\n\u001b[1;32m--> 780\u001b[1;33m                             \u001b[1;32mraise\u001b[0m \u001b[0mValueError\u001b[0m\u001b[1;33m(\u001b[0m\u001b[1;34m'The given list does not define a valid thetapoint'\u001b[0m\u001b[1;33m)\u001b[0m\u001b[1;33m\u001b[0m\u001b[1;33m\u001b[0m\u001b[0m\n\u001b[0m\u001b[0;32m    781\u001b[0m \u001b[1;33m\u001b[0m\u001b[0m\n\u001b[0;32m    782\u001b[0m     \u001b[1;32mdef\u001b[0m \u001b[0mabelian_variety\u001b[0m\u001b[1;33m(\u001b[0m\u001b[0mself\u001b[0m\u001b[1;33m)\u001b[0m\u001b[1;33m:\u001b[0m\u001b[1;33m\u001b[0m\u001b[1;33m\u001b[0m\u001b[0m\n",
      "\u001b[1;31mValueError\u001b[0m: The given list does not define a valid thetapoint"
     ]
    }
   ],
   "source": [
    "Q = B.point([1 , 1 , 1 , 1], check=True)"
   ]
  },
  {
   "cell_type": "markdown",
   "metadata": {},
   "source": [
    "### Basic arithmetic <a name=\"arithmetic\"></a>\n",
    "Follows the example in Section 6 of 'Efficient Pairing Computation with theta functions' by David Lubicz and Damien Robert."
   ]
  },
  {
   "cell_type": "code",
   "execution_count": 8,
   "metadata": {},
   "outputs": [
    {
     "data": {
      "text/plain": [
       "True"
      ]
     },
     "execution_count": 8,
     "metadata": {},
     "output_type": "execute_result"
    }
   ],
   "source": [
    "l = 1889\n",
    "lP = l*P; lP\n",
    "lP == A(0) #as projective points"
   ]
  },
  {
   "cell_type": "code",
   "execution_count": 9,
   "metadata": {},
   "outputs": [
    {
     "data": {
      "text/plain": [
       "((221*t^3 + 178*t^2 + 126*t + 27 : 32*t^3 + 17*t^2 + 175*t + 171 : 180*t^3 + 188*t^2 + 161*t + 119 : 261*t^3 + 107*t^2 + 37*t + 135),\n",
       " (1 : 56*t^3 + 312*t^2 + 147*t + 287 : 277*t^3 + 295*t^2 + 7*t + 287 : 290*t^3 + 203*t^2 + 274*t + 10))"
      ]
     },
     "execution_count": 9,
     "metadata": {},
     "output_type": "execute_result"
    }
   ],
   "source": [
    "R.<X> = PolynomialRing(FF)\n",
    "poly = X^4 + 3*X^2 + 290*X + 3\n",
    "FF2.<t> = poly.splitting_field()\n",
    "\n",
    "Q_list = [158*t^3 + 67*t^2 + 9*t + 293, 290*t^3 + 25*t^2 + 235*t + 280,\n",
    " 155*t^3 + 84*t^2 + 15*t + 170, 1]\n",
    "A2 = A.change_ring(FF2)\n",
    "P = A2(P)\n",
    "Q = A2(Q_list)\n",
    "\n",
    "P + Q #returns P + Q and P - Q"
   ]
  },
  {
   "cell_type": "code",
   "execution_count": 10,
   "metadata": {},
   "outputs": [
    {
     "data": {
      "text/plain": [
       "(261*t^3 + 107*t^2 + 37*t + 135 : 205*t^3 + 88*t^2 + 195*t + 125 : 88*t^3 + 99*t^2 + 164*t + 98 : 159*t^3 + 279*t^2 + 254*t + 276)"
      ]
     },
     "execution_count": 10,
     "metadata": {},
     "output_type": "execute_result"
    }
   ],
   "source": [
    "PmQ_list = (62*t^3 + 16*t^2 + 255*t + 129 , 172*t^3 + 157*t^2 + 43*t + 222 ,\n",
    " 258*t^3 + 39*t^2 + 313*t + 150 , 1)\n",
    "PmQ = A2.point(PmQ_list)\n",
    "\n",
    "PQ = Q.diff_add(P, PmQ); PQ"
   ]
  },
  {
   "cell_type": "code",
   "execution_count": 11,
   "metadata": {},
   "outputs": [
    {
     "data": {
      "text/plain": [
       "17*t^3 + 153*t^2 + 305*t + 187"
      ]
     },
     "execution_count": 11,
     "metadata": {},
     "output_type": "execute_result"
    }
   ],
   "source": [
    "P.weil_pairing(l, Q, PQ)"
   ]
  },
  {
   "cell_type": "code",
   "execution_count": 12,
   "metadata": {},
   "outputs": [
    {
     "data": {
      "text/plain": [
       "17*t^3 + 153*t^2 + 305*t + 187"
      ]
     },
     "execution_count": 12,
     "metadata": {},
     "output_type": "execute_result"
    }
   ],
   "source": [
    "lPQ, lP = P.diff_multadd(l, PQ, Q)\n",
    "PlQ, lQ = Q.diff_multadd(l, PQ, P)\n",
    "P._weil_pairing_from_points(Q, lP, lQ, lPQ, PlQ)"
   ]
  },
  {
   "cell_type": "markdown",
   "metadata": {},
   "source": [
    "### Morphism computations <a name=\"morphisms\"></a>\n",
    "\n",
    "This section focuses on the computation of morphisms between hyperelliptic curves and the corresponding abelian varieties (their jacobians) with theta functions of level 2 and 4.\n",
    "\n",
    "Follows the example in 'ex-morphisms.m' of the Magma implementation of this library.\n"
   ]
  },
  {
   "cell_type": "markdown",
   "metadata": {},
   "source": [
    "#### In level 4 <a name=\"m-lvl4\"></a>\n",
    "\n",
    "First we define the curve and its Jacobian\n",
    "\n",
    "A curve y² = f(x) is defined by a list `a` containing the roots of f(x); it\n",
    "is important that f be of odd degree and `a` be ordered (the Theta constants\n",
    "depend on this ordering)"
   ]
  },
  {
   "cell_type": "code",
   "execution_count": 13,
   "metadata": {},
   "outputs": [],
   "source": [
    "F = GF(83^2); z, = F.gens(); Fx.<X> = PolynomialRing(F)\n",
    "\n",
    "g = 2\n",
    "a = [F(0), 1, 3, 15, 20]"
   ]
  },
  {
   "cell_type": "markdown",
   "metadata": {},
   "source": [
    "For instance, on may recover f(x) as follows:"
   ]
  },
  {
   "cell_type": "code",
   "execution_count": 14,
   "metadata": {},
   "outputs": [
    {
     "data": {
      "text/plain": [
       "Hyperelliptic Curve over Finite Field in z2 of size 83^2 defined by y^2 = x^5 + 44*x^4 + 28*x^3 + 23*x^2 + 70*x"
      ]
     },
     "execution_count": 14,
     "metadata": {},
     "output_type": "execute_result"
    }
   ],
   "source": [
    "f = prod(X - al for al in a)\n",
    "C = HyperellipticCurve(f); C"
   ]
  },
  {
   "cell_type": "markdown",
   "metadata": {},
   "source": [
    "We need to fix a square root (might live in an extension of degree two)."
   ]
  },
  {
   "cell_type": "code",
   "execution_count": 15,
   "metadata": {},
   "outputs": [],
   "source": [
    "rac = sqrt(a[1]-a[0])"
   ]
  },
  {
   "cell_type": "markdown",
   "metadata": {},
   "source": [
    "We imput the theta constants of the Jacobian."
   ]
  },
  {
   "cell_type": "code",
   "execution_count": 16,
   "metadata": {},
   "outputs": [],
   "source": [
    "thc = [0]*(2**(2*g))\n",
    "idx = lambda x : ZZ(x, 2)\n",
    "thc[idx([0,0,0,0])]=F(1)\n",
    "thc[idx([0,0,1,1])]=z^1491\n",
    "thc[idx([0,0,1,0])]=z^777\n",
    "thc[idx([0,0,0,1])]=F(30)\n",
    "thc[idx([1,0,0,0])]=F(37)\n",
    "thc[idx([1,0,0,1])]=z^2058\n",
    "thc[idx([0,1,0,0])]=F(56)\n",
    "thc[idx([1,1,0,0])]=F(57)\n",
    "thc[idx([0,1,1,0])]=z^609\n",
    "thc[idx([1,1,1,1])]=z^1533\n",
    "thc[idx([0,1,0,1])]=F(0)\n",
    "thc[idx([0,1,1,1])]=F(0)\n",
    "thc[idx([1,0,1,0])]=F(0)\n",
    "thc[idx([1,1,1,0])]=F(0)\n",
    "thc[idx([1,0,1,1])]=F(0)\n",
    "thc[idx([1,1,0,1])]=F(0)\n",
    "thc = ThetaNullPoint_Analytic(4, thc, g)"
   ]
  },
  {
   "cell_type": "markdown",
   "metadata": {},
   "source": [
    "Now we can map some points between Mumford and Theta representation.\n",
    "\n",
    "Consider the Mumford divisor defined by:"
   ]
  },
  {
   "cell_type": "code",
   "execution_count": 17,
   "metadata": {},
   "outputs": [
    {
     "data": {
      "text/plain": [
       "(X^2 + 30*X + 15, (62*z2 + 12)*X + 73*z2 + 73)"
      ]
     },
     "execution_count": 17,
     "metadata": {},
     "output_type": "execute_result"
    }
   ],
   "source": [
    "u = (X-43)*(X-10); v = z^954*X + z^2518; u, v"
   ]
  },
  {
   "cell_type": "markdown",
   "metadata": {},
   "source": [
    "The function `MumfordToLevel4ThetaPoint` takes as input the support of the divisor, which we compute as follows:"
   ]
  },
  {
   "cell_type": "code",
   "execution_count": 18,
   "metadata": {},
   "outputs": [
    {
     "data": {
      "text/plain": [
       "(78*z2 + 13 : 77*z2 + 26 : 43*z2 + 3 : 54*z2 + 67 : 77*z2 + 61 : 35*z2 + 2 : 31*z2 + 8 : 19*z2 + 38 : 25*z2 + 9 : z2 + 65 : 17*z2 + 75 : 18*z2 + 38 : 50*z2 + 17 : 41*z2 + 6 : 18*z2 + 48 : 39*z2 + 73)"
      ]
     },
     "execution_count": 18,
     "metadata": {},
     "output_type": "execute_result"
    }
   ],
   "source": [
    "points = sum(([(x, v(x))]*mult for x, mult in u.roots(u.splitting_field('z'))), [])\n",
    "th = MumfordToLevel4ThetaPoint(a, rac, thc, points); th"
   ]
  },
  {
   "cell_type": "markdown",
   "metadata": {},
   "source": [
    "Conversely, if we define the theta point"
   ]
  },
  {
   "cell_type": "code",
   "execution_count": 19,
   "metadata": {},
   "outputs": [],
   "source": [
    "th = [0]*(2**(2*g))\n",
    "th[idx([0,0,0,0])] = z^1755\n",
    "th[idx([0,0,1,1])] = z^1179\n",
    "th[idx([0,0,1,0])] = z^977\n",
    "th[idx([0,0,0,1])] = z^1105\n",
    "th[idx([1,0,0,0])] = z^352\n",
    "th[idx([1,0,0,1])] = z^1674\n",
    "th[idx([0,1,0,0])] = z^2523\n",
    "th[idx([1,1,0,0])] = z^5890\n",
    "th[idx([0,1,1,0])] = z^5051\n",
    "th[idx([1,1,1,1])] = z^5243\n",
    "th[idx([0,1,0,1])] = z^4021\n",
    "th[idx([0,1,1,1])] = z^4716\n",
    "th[idx([1,0,1,0])] = z^139\n",
    "th[idx([1,1,1,0])] = z^507\n",
    "th[idx([1,0,1,1])] = z^2832\n",
    "th[idx([1,1,0,1])] = z^3382\n",
    "th = thc(th)"
   ]
  },
  {
   "cell_type": "markdown",
   "metadata": {},
   "source": [
    "The function `Level4ThetaPointToMumford` returns the corresponding Mumford polynomials"
   ]
  },
  {
   "cell_type": "code",
   "execution_count": 20,
   "metadata": {},
   "outputs": [
    {
     "data": {
      "text/plain": [
       "(x^2 + 30*x + 15, (62*z2 + 12)*x + 73*z2 + 73)"
      ]
     },
     "execution_count": 20,
     "metadata": {},
     "output_type": "execute_result"
    }
   ],
   "source": [
    "u,v = Level4ThetaPointToMumford(a, rac, th); u, v"
   ]
  },
  {
   "cell_type": "markdown",
   "metadata": {},
   "source": [
    "#### In level 2 <a name=\"m-lvl2\"></a>\n",
    "\n",
    "First we define the curve and its Kummer surface\n",
    "\n",
    "A curve y² = f(x) is defined by a list `a` containing the roots of f(x); it is important that f be of odd degree and `a` be ordered (the Theta constants depend on this ordering).\n",
    "\n",
    "First defined the curve and the Kummer Surface"
   ]
  },
  {
   "cell_type": "code",
   "execution_count": 21,
   "metadata": {},
   "outputs": [],
   "source": [
    "F = GF(83^2); z, = F.gens(); Fx.<X> = PolynomialRing(F)\n",
    "\n",
    "g = 2;\n",
    "a = [F(el) for el in [0,1,3,15,20]] # the roots of f"
   ]
  },
  {
   "cell_type": "markdown",
   "metadata": {},
   "source": [
    "For instance, on may recover f(x) as follows:"
   ]
  },
  {
   "cell_type": "code",
   "execution_count": 22,
   "metadata": {},
   "outputs": [
    {
     "data": {
      "text/plain": [
       "Hyperelliptic Curve over Finite Field in z2 of size 83^2 defined by y^2 = x^5 + 44*x^4 + 28*x^3 + 23*x^2 + 70*x"
      ]
     },
     "execution_count": 22,
     "metadata": {},
     "output_type": "execute_result"
    }
   ],
   "source": [
    "f = prod(X - al for al in a)\n",
    "C = HyperellipticCurve(f); C"
   ]
  },
  {
   "cell_type": "markdown",
   "metadata": {},
   "source": [
    "The Theta constants of the Kummer surface."
   ]
  },
  {
   "cell_type": "code",
   "execution_count": 23,
   "metadata": {},
   "outputs": [],
   "source": [
    "thc2 = [0]*(2**(2*g))\n",
    "idx = lambda x : ZZ(x, 2)\n",
    "thc2[idx([0,0,0,0])] = F(1)\n",
    "thc2[idx([0,0,1,1])] = z^2982\n",
    "thc2[idx([0,0,1,0])] = z^1554\n",
    "thc2[idx([0,0,0,1])] = F(70)\n",
    "thc2[idx([1,0,0,0])] = F(41)\n",
    "thc2[idx([1,0,0,1])] = F(76)\n",
    "thc2[idx([0,1,0,0])] = F(65)\n",
    "thc2[idx([1,1,0,0])] = F(12)\n",
    "thc2[idx([0,1,1,0])] = z^1218\n",
    "thc2[idx([1,1,1,1])] = z^3066\n",
    "thc2[idx([0,1,0,1])] = F(0)\n",
    "thc2[idx([0,1,1,1])] = F(0)\n",
    "thc2[idx([1,0,1,0])] = F(0)\n",
    "thc2[idx([1,1,1,0])] = F(0)\n",
    "thc2[idx([1,0,1,1])] = F(0)\n",
    "thc2[idx([1,1,0,1])] = F(0)\n",
    "thc2 = ThetaNullPoint_Analytic(2, thc2, g)"
   ]
  },
  {
   "cell_type": "markdown",
   "metadata": {},
   "source": [
    "Now we can map points between Mumford and Theta representations.\n",
    "Consider the Mumford divisor defined by:"
   ]
  },
  {
   "cell_type": "code",
   "execution_count": 24,
   "metadata": {},
   "outputs": [
    {
     "data": {
      "text/plain": [
       "(X^2 + 30*X + 15, (62*z2 + 12)*x + 73*z2 + 73)"
      ]
     },
     "execution_count": 24,
     "metadata": {},
     "output_type": "execute_result"
    }
   ],
   "source": [
    "u = (X-43)*(X-10); v2 = (z^954*X + z^2518)^2; u,v"
   ]
  },
  {
   "cell_type": "markdown",
   "metadata": {},
   "source": [
    "The function `MumfordToLevel2ThetaPoint` takes as input the support of the divisor, which we compute as follows:"
   ]
  },
  {
   "cell_type": "code",
   "execution_count": 25,
   "metadata": {},
   "outputs": [
    {
     "data": {
      "text/plain": [
       "(20*z2 + 21 : 73*z2 + 70 : 55*z2 + 41 : 74*z2 + 69 : 27*z2 + 71 : 71*z2 + 6 : 10*z2 + 34 : 78*z2 + 44 : 72*z2 + 45 : 26*z2 + 38 : 82 : 2 : 76*z2 + 26 : 57*z2 + 13 : 55*z2 + 14 : 43*z2 + 65)"
      ]
     },
     "execution_count": 25,
     "metadata": {},
     "output_type": "execute_result"
    }
   ],
   "source": [
    "points = [(F(43),F(8)),(F(10),z^2982)] # Note that we could have used points = [[43,-8],[10,-z^2982]]\n",
    "th2_S =  MumfordToLevel2ThetaPoint(a, thc2, points); th2_S"
   ]
  },
  {
   "cell_type": "markdown",
   "metadata": {},
   "source": [
    "Conversely, define the Theta functions"
   ]
  },
  {
   "cell_type": "code",
   "execution_count": 26,
   "metadata": {},
   "outputs": [],
   "source": [
    "th2 = [0]*(2**(2*g))\n",
    "th2[idx([0,0,0,0])] = z^3608\n",
    "th2[idx([0,0,1,1])] = z^5026\n",
    "th2[idx([0,0,1,0])] = z^1654\n",
    "th2[idx([0,0,0,1])] = z^6408\n",
    "th2[idx([1,0,0,0])] = z^5576\n",
    "th2[idx([1,0,0,1])] = z^3952\n",
    "th2[idx([0,1,0,0])] = z^734\n",
    "th2[idx([1,1,0,0])] = z^2674\n",
    "th2[idx([0,1,1,0])] = z^3262\n",
    "th2[idx([1,1,1,1])] = z^5436\n",
    "th2[idx([0,1,0,1])] = F(82)\n",
    "th2[idx([0,1,1,1])] = z^6258\n",
    "th2[idx([1,0,1,0])] = z^4746\n",
    "th2[idx([1,1,1,0])] = z^798\n",
    "th2[idx([1,0,1,1])] = z^5082\n",
    "th2[idx([1,1,0,1])] = F(2)\n",
    "th2 = thc2(th2)"
   ]
  },
  {
   "cell_type": "markdown",
   "metadata": {},
   "source": [
    "The function `Level2ThetaPointToMumford` returns the corresponding Mumford polynomials (u, v²)"
   ]
  },
  {
   "cell_type": "code",
   "execution_count": 27,
   "metadata": {},
   "outputs": [
    {
     "data": {
      "text/plain": [
       "(x^2 + 30*x + 15, (20*z2 + 9)*x^2 + (19*z2 + 82)*x + 51*z2 + 66)"
      ]
     },
     "execution_count": 27,
     "metadata": {},
     "output_type": "execute_result"
    }
   ],
   "source": [
    "u_S,v2_S = Level2ThetaPointToMumford(a, th2); u_S, v2_S"
   ]
  },
  {
   "cell_type": "markdown",
   "metadata": {},
   "source": [
    "#### Change of coordinates <a name=\"m-change\"></a>"
   ]
  },
  {
   "cell_type": "markdown",
   "metadata": {},
   "source": [
    "The theta structure used in the morphisms module is not the same as in the other modules of the package. The following functions act as conversion between the two.\n",
    "\n",
    "Let `thc2` and `th2` be the analytic theta constants and functions in level 2 given previously. We convert them to the classical representation."
   ]
  },
  {
   "cell_type": "code",
   "execution_count": 28,
   "metadata": {},
   "outputs": [],
   "source": [
    "n = 2 # the level is 2\n",
    "P0 = thc2.to_algebraic()"
   ]
  },
  {
   "cell_type": "markdown",
   "metadata": {},
   "source": [
    "There is an optional parameter to give the algebraic representation of the theta constant. If it is not given, then it is computed internally."
   ]
  },
  {
   "cell_type": "code",
   "execution_count": 30,
   "metadata": {},
   "outputs": [
    {
     "data": {
      "text/plain": [
       "True"
      ]
     },
     "execution_count": 30,
     "metadata": {},
     "output_type": "execute_result"
    }
   ],
   "source": [
    "P1 = th2.to_algebraic(P0)\n",
    "P2 = th2.to_algebraic()\n",
    "P1.is_equal(P2)"
   ]
  },
  {
   "cell_type": "markdown",
   "metadata": {},
   "source": [
    "Analgously, let `P0` and `P1` be the theta constants and functions in level 2. We convert them in the analytic representation used in the morphisms module"
   ]
  },
  {
   "cell_type": "code",
   "execution_count": 31,
   "metadata": {},
   "outputs": [],
   "source": [
    "thc2 = AlgebraicToAnalyticThetaNullPoint(P0)"
   ]
  },
  {
   "cell_type": "markdown",
   "metadata": {},
   "source": [
    "As in the oposite conversion, there is an optional parameter to give the analytic representation of the theta constant. If it is not given, then it is computed internally."
   ]
  },
  {
   "cell_type": "code",
   "execution_count": 32,
   "metadata": {},
   "outputs": [],
   "source": [
    "th2_1 = AlgebraicToAnalyticThetaPoint(P1, thc2)\n",
    "th2_2 = AlgebraicToAnalyticThetaPoint(P1)"
   ]
  }
 ],
 "metadata": {
  "kernelspec": {
   "display_name": "SageMath 9.4",
   "language": "sage",
   "name": "sagemath"
  },
  "language_info": {
   "codemirror_mode": {
    "name": "ipython",
    "version": 3
   },
   "file_extension": ".py",
   "mimetype": "text/x-python",
   "name": "python",
   "nbconvert_exporter": "python",
   "pygments_lexer": "ipython3",
   "version": "3.8.10"
  }
 },
 "nbformat": 4,
 "nbformat_minor": 2
}
